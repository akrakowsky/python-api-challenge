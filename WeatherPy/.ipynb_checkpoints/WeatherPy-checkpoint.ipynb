{
 "cells": [
  {
   "cell_type": "markdown",
   "metadata": {},
   "source": [
    "# WeatherPy\n",
    "----\n",
    "\n",
    "#### Note\n",
    "* Instructions have been included for each segment. You do not have to follow them exactly, but they are included to help you think through the steps."
   ]
  },
  {
   "cell_type": "code",
   "execution_count": 4,
   "metadata": {},
   "outputs": [
    {
     "name": "stdout",
     "output_type": "stream",
     "text": [
      "Requirement already satisfied: citipy in c:\\users\\alig_\\anaconda3\\lib\\site-packages (0.0.5)\n",
      "Requirement already satisfied: kdtree>=0.12 in c:\\users\\alig_\\anaconda3\\lib\\site-packages (from citipy) (0.16)\n"
     ]
    }
   ],
   "source": [
    "!pip install citipy"
   ]
  },
  {
   "cell_type": "code",
   "execution_count": 1,
   "metadata": {
    "scrolled": true
   },
   "outputs": [],
   "source": [
    "# Dependencies and Setup\n",
    "import matplotlib.pyplot as plt\n",
    "import pandas as pd\n",
    "import numpy as np\n",
    "import requests\n",
    "import time\n",
    "from scipy.stats import linregress\n",
    "import json\n",
    "\n",
    "# Import API key\n",
    "from config import weather_api_key\n",
    "\n",
    "# Incorporated citipy to determine city based on latitude and longitude\n",
    "from citipy import citipy\n",
    "\n",
    "# Output File (CSV)\n",
    "output_data_file = \"output_data/cities.csv\"\n",
    "\n",
    "# Range of latitudes and longitudes\n",
    "lat_range = (-90, 90)\n",
    "lng_range = (-180, 180)"
   ]
  },
  {
   "cell_type": "markdown",
   "metadata": {},
   "source": [
    "## Generate Cities List"
   ]
  },
  {
   "cell_type": "code",
   "execution_count": 2,
   "metadata": {},
   "outputs": [
    {
     "data": {
      "text/plain": [
       "622"
      ]
     },
     "execution_count": 2,
     "metadata": {},
     "output_type": "execute_result"
    }
   ],
   "source": [
    "# List for holding lat_lngs and cities\n",
    "lat_lngs = []\n",
    "cities = []\n",
    "\n",
    "# Create a set of random lat and lng combinations\n",
    "lats = np.random.uniform(lat_range[0], lat_range[1], size=1500)\n",
    "lngs = np.random.uniform(lng_range[0], lng_range[1], size=1500)\n",
    "lat_lngs = zip(lats, lngs)\n",
    "\n",
    "# Identify nearest city for each lat, lng combination\n",
    "for lat_lng in lat_lngs:\n",
    "    city = citipy.nearest_city(lat_lng[0], lat_lng[1]).city_name\n",
    "    \n",
    "    # If the city is unique, then add it to a our cities list\n",
    "    if city not in cities:\n",
    "        cities.append(city)\n",
    "\n",
    "# Print the city count to confirm sufficient count\n",
    "len(cities)"
   ]
  },
  {
   "cell_type": "markdown",
   "metadata": {},
   "source": [
    "### Perform API Calls\n",
    "* Perform a weather check on each city using a series of successive API calls.\n",
    "* Include a print log of each city as it'sbeing processed (with the city number and city name).\n"
   ]
  },
  {
   "cell_type": "code",
   "execution_count": 3,
   "metadata": {
    "scrolled": true
   },
   "outputs": [
    {
     "name": "stdout",
     "output_type": "stream",
     "text": [
      "Beginning Data Retrieval     \n",
      "-----------------------------\n",
      "City nizhneyansk not found. Skipping to next city.\n",
      "Processing Record 1 | san carlos de bariloche\n",
      "Processing Record 2 | ushuaia\n",
      "Processing Record 3 | yellowknife\n",
      "Processing Record 4 | tuy hoa\n",
      "Processing Record 5 | westport\n",
      "Processing Record 6 | gat\n",
      "Processing Record 7 | vaini\n",
      "Processing Record 8 | rikitea\n",
      "Processing Record 9 | omsukchan\n",
      "Processing Record 10 | adrar\n",
      "Processing Record 11 | albany\n",
      "Processing Record 12 | mataura\n",
      "Processing Record 13 | vakhrushev\n",
      "Processing Record 14 | kyra\n",
      "Processing Record 15 | jamestown\n",
      "Processing Record 16 | filingue\n",
      "Processing Record 17 | alta floresta\n",
      "Processing Record 18 | chokurdakh\n",
      "Processing Record 19 | helong\n",
      "Processing Record 20 | saint george\n",
      "Processing Record 21 | rundu\n",
      "Processing Record 22 | bredasdorp\n",
      "Processing Record 23 | georgetown\n",
      "Processing Record 24 | nome\n",
      "Processing Record 25 | cidreira\n",
      "Processing Record 26 | narrabri\n",
      "Processing Record 27 | cape town\n",
      "Processing Record 28 | skeldon\n",
      "Processing Record 29 | avera\n",
      "Processing Record 30 | gonzalez\n",
      "Processing Record 31 | imeni poliny osipenko\n",
      "Processing Record 32 | nanortalik\n",
      "Processing Record 33 | hobart\n",
      "Processing Record 34 | okoneshnikovo\n",
      "Processing Record 35 | dagda\n",
      "Processing Record 36 | mae hong son\n",
      "Processing Record 37 | chengde\n",
      "City grand river south east not found. Skipping to next city.\n",
      "Processing Record 38 | aksarka\n",
      "Processing Record 39 | nantucket\n",
      "Processing Record 40 | san roque\n",
      "Processing Record 41 | vila velha\n",
      "Processing Record 42 | severo-kurilsk\n",
      "Processing Record 43 | norman wells\n",
      "Processing Record 44 | kapaa\n",
      "Processing Record 45 | oyem\n",
      "Processing Record 46 | gainesville\n",
      "Processing Record 47 | lashio\n",
      "Processing Record 48 | busselton\n",
      "Processing Record 49 | hit\n",
      "Processing Record 50 | butaritari\n",
      "Processing Record 51 | bozoum\n",
      "Processing Record 52 | clinton\n",
      "Processing Record 53 | cabinda\n",
      "Processing Record 54 | hasaki\n",
      "Processing Record 55 | narsaq\n",
      "Processing Record 56 | klaksvik\n",
      "Processing Record 57 | dali\n",
      "Processing Record 58 | port hardy\n",
      "Processing Record 59 | olafsvik\n",
      "Processing Record 60 | carnarvon\n",
      "Processing Record 61 | pemba\n",
      "Processing Record 62 | boa vista\n",
      "Processing Record 63 | saint-joseph\n",
      "Processing Record 64 | mahebourg\n",
      "Processing Record 65 | pevek\n",
      "Processing Record 66 | rocha\n",
      "Processing Record 67 | shingu\n",
      "Processing Record 68 | manokwari\n",
      "Processing Record 69 | alice springs\n",
      "Processing Record 70 | hlobyne\n",
      "City kuche not found. Skipping to next city.\n",
      "Processing Record 71 | bluff\n",
      "Processing Record 72 | mar del plata\n",
      "Processing Record 73 | thompson\n",
      "Processing Record 74 | neiafu\n",
      "Processing Record 75 | caarapo\n",
      "Processing Record 76 | brokopondo\n",
      "Processing Record 77 | iberia\n",
      "Processing Record 78 | ulladulla\n",
      "Processing Record 79 | northam\n",
      "Processing Record 80 | winchester\n",
      "Processing Record 81 | peniche\n",
      "Processing Record 82 | new norfolk\n",
      "Processing Record 83 | punta arenas\n",
      "Processing Record 84 | pisco\n",
      "Processing Record 85 | beyneu\n",
      "City kamenskoye not found. Skipping to next city.\n",
      "Processing Record 86 | tianpeng\n",
      "Processing Record 87 | cherskiy\n",
      "Processing Record 88 | nemuro\n",
      "Processing Record 89 | deputatskiy\n",
      "Processing Record 90 | khatanga\n",
      "Processing Record 91 | tiszaalpar\n",
      "Processing Record 92 | kaitangata\n",
      "Processing Record 93 | hami\n",
      "Processing Record 94 | east london\n",
      "Processing Record 95 | mentougou\n",
      "Processing Record 96 | vasto\n",
      "Processing Record 97 | bud\n",
      "Processing Record 98 | nikolskoye\n",
      "Processing Record 99 | hermanus\n",
      "Processing Record 100 | senador jose porfirio\n",
      "Processing Record 101 | bubaque\n",
      "Processing Record 102 | barrow\n",
      "Processing Record 103 | saint-philippe\n",
      "Processing Record 104 | faya\n",
      "Processing Record 105 | san antonio\n",
      "City tsihombe not found. Skipping to next city.\n",
      "Processing Record 106 | mehamn\n",
      "Processing Record 107 | avarua\n",
      "Processing Record 108 | port alfred\n",
      "Processing Record 109 | yetkul\n",
      "Processing Record 110 | douglas\n",
      "Processing Record 111 | vanavara\n",
      "Processing Record 112 | leningradskiy\n",
      "Processing Record 113 | marathon\n",
      "City saleaula not found. Skipping to next city.\n",
      "Processing Record 114 | edgewater\n",
      "Processing Record 115 | lebu\n",
      "Processing Record 116 | atbasar\n",
      "Processing Record 117 | hilo\n",
      "Processing Record 118 | talnakh\n",
      "Processing Record 119 | puerto ayora\n",
      "Processing Record 120 | college\n",
      "Processing Record 121 | hofn\n",
      "Processing Record 122 | amazar\n",
      "Processing Record 123 | tulun\n",
      "Processing Record 124 | qaanaaq\n",
      "Processing Record 125 | tromso\n",
      "Processing Record 126 | beni\n",
      "Processing Record 127 | junction city\n",
      "Processing Record 128 | acapetahua\n",
      "Processing Record 129 | road town\n",
      "Processing Record 130 | upernavik\n",
      "Processing Record 131 | kodiak\n",
      "Processing Record 132 | inhambane\n",
      "Processing Record 133 | novopokrovka\n",
      "Processing Record 134 | saldanha\n",
      "Processing Record 135 | mnogovershinnyy\n",
      "City illoqqortoormiut not found. Skipping to next city.\n",
      "Processing Record 136 | shaowu\n",
      "Processing Record 137 | grand gaube\n",
      "Processing Record 138 | lavrentiya\n",
      "Processing Record 139 | belaya gora\n",
      "Processing Record 140 | coquimbo\n",
      "City attawapiskat not found. Skipping to next city.\n",
      "Processing Record 141 | smithers\n",
      "City dien bien not found. Skipping to next city.\n",
      "City amderma not found. Skipping to next city.\n",
      "Processing Record 142 | port elizabeth\n",
      "Processing Record 143 | palmer\n",
      "City barawe not found. Skipping to next city.\n",
      "Processing Record 144 | moundsville\n",
      "Processing Record 145 | mount gambier\n",
      "Processing Record 146 | castro\n",
      "Processing Record 147 | bathsheba\n",
      "Processing Record 148 | henties bay\n",
      "Processing Record 149 | kuching\n",
      "City rungata not found. Skipping to next city.\n",
      "Processing Record 150 | kitob\n",
      "Processing Record 151 | saint-denis\n",
      "Processing Record 152 | minna\n",
      "Processing Record 153 | hithadhoo\n",
      "City lolua not found. Skipping to next city.\n",
      "Processing Record 154 | anadyr\n",
      "Processing Record 155 | nizhneudinsk\n",
      "Processing Record 156 | bay city\n",
      "Processing Record 157 | victoria\n",
      "Processing Record 158 | noyabrsk\n",
      "City louisbourg not found. Skipping to next city.\n",
      "Processing Record 159 | arraial do cabo\n",
      "Processing Record 160 | kawhia\n",
      "Processing Record 161 | mareeba\n",
      "City palabuhanratu not found. Skipping to next city.\n",
      "Processing Record 162 | chuy\n",
      "Processing Record 163 | bambous virieux\n",
      "Processing Record 164 | faanui\n",
      "Processing Record 165 | gambela\n",
      "Processing Record 166 | hualmay\n",
      "Processing Record 167 | muroto\n",
      "Processing Record 168 | tasiilaq\n",
      "Processing Record 169 | noshiro\n",
      "Processing Record 170 | katsuura\n",
      "Processing Record 171 | torata\n",
      "Processing Record 172 | maniitsoq\n",
      "Processing Record 173 | krabi\n",
      "Processing Record 174 | atuona\n",
      "Processing Record 175 | khorixas\n",
      "Processing Record 176 | teguldet\n",
      "Processing Record 177 | miramar\n",
      "Processing Record 178 | dingle\n",
      "Processing Record 179 | ojinaga\n",
      "Processing Record 180 | salaga\n",
      "City mullaitivu not found. Skipping to next city.\n",
      "Processing Record 181 | fukue\n",
      "Processing Record 182 | cartagena\n",
      "Processing Record 183 | kouango\n",
      "Processing Record 184 | luba\n",
      "Processing Record 185 | juarez\n",
      "Processing Record 186 | ribeira grande\n",
      "Processing Record 187 | caninde\n",
      "Processing Record 188 | tuktoyaktuk\n",
      "Processing Record 189 | tual\n",
      "Processing Record 190 | honiara\n",
      "Processing Record 191 | moscow\n",
      "Processing Record 192 | solnechnyy\n",
      "City taolanaro not found. Skipping to next city.\n",
      "Processing Record 193 | bengkulu\n",
      "Processing Record 194 | voru\n",
      "Processing Record 195 | cockburn town\n",
      "Processing Record 196 | chongqing\n",
      "Processing Record 197 | dikson\n",
      "Processing Record 198 | colares\n",
      "Processing Record 199 | humaita\n",
      "Processing Record 200 | mlowo\n",
      "City marcona not found. Skipping to next city.\n",
      "Processing Record 201 | ngunguru\n",
      "Processing Record 202 | tazovskiy\n",
      "Processing Record 203 | mecca\n",
      "Processing Record 204 | mirabad\n",
      "Processing Record 205 | santa cruz\n",
      "City makung not found. Skipping to next city.\n",
      "Processing Record 206 | lanzhou\n",
      "Processing Record 207 | plettenberg bay\n",
      "Processing Record 208 | mayo\n",
      "Processing Record 209 | havre-saint-pierre\n",
      "Processing Record 210 | general roca\n",
      "Processing Record 211 | baza\n",
      "Processing Record 212 | miranda do corvo\n",
      "Processing Record 213 | oktyabrskiy\n",
      "City el mahalla el kubra not found. Skipping to next city.\n",
      "Processing Record 214 | udachnyy\n",
      "Processing Record 215 | batsfjord\n",
      "Processing Record 216 | zhigansk\n",
      "Processing Record 217 | komsomolskiy\n",
      "Processing Record 218 | urla\n"
     ]
    },
    {
     "name": "stdout",
     "output_type": "stream",
     "text": [
      "Processing Record 219 | am timan\n",
      "Processing Record 220 | turbat\n",
      "Processing Record 221 | turukhansk\n",
      "Processing Record 222 | chone\n",
      "Processing Record 223 | kavaratti\n",
      "Processing Record 224 | yerofey pavlovich\n",
      "Processing Record 225 | maceio\n",
      "Processing Record 226 | paciran\n",
      "Processing Record 227 | wau\n",
      "Processing Record 228 | seydi\n",
      "Processing Record 229 | namibe\n",
      "City warqla not found. Skipping to next city.\n",
      "Processing Record 230 | carutapera\n",
      "Processing Record 231 | sohag\n",
      "Processing Record 232 | omboue\n",
      "Processing Record 233 | novikovo\n",
      "Processing Record 234 | arlit\n",
      "Processing Record 235 | port said\n",
      "Processing Record 236 | vostok\n",
      "Processing Record 237 | aleksandrovsk-sakhalinskiy\n",
      "Processing Record 238 | manali\n",
      "Processing Record 239 | soria\n",
      "Processing Record 240 | ponta do sol\n",
      "Processing Record 241 | ferkessedougou\n",
      "Processing Record 242 | natal\n",
      "Processing Record 243 | khakhea\n",
      "Processing Record 244 | luderitz\n",
      "Processing Record 245 | hambantota\n",
      "Processing Record 246 | dongning\n",
      "Processing Record 247 | kollegal\n",
      "Processing Record 248 | ahipara\n",
      "City asayita not found. Skipping to next city.\n",
      "Processing Record 249 | las vegas\n",
      "Processing Record 250 | tautira\n",
      "Processing Record 251 | samarai\n",
      "Processing Record 252 | baculin\n",
      "Processing Record 253 | cayenne\n",
      "Processing Record 254 | lysa nad labem\n",
      "City vestbygda not found. Skipping to next city.\n",
      "Processing Record 255 | tulungagung\n",
      "Processing Record 256 | nampula\n",
      "Processing Record 257 | channel-port aux basques\n",
      "Processing Record 258 | salalah\n",
      "Processing Record 259 | san cristobal\n",
      "Processing Record 260 | moose factory\n",
      "Processing Record 261 | clyde river\n",
      "Processing Record 262 | gobabis\n",
      "Processing Record 263 | codrington\n",
      "Processing Record 264 | vanimo\n",
      "Processing Record 265 | pangnirtung\n",
      "Processing Record 266 | malumfashi\n",
      "Processing Record 267 | kalemie\n",
      "Processing Record 268 | yumen\n",
      "Processing Record 269 | ndele\n",
      "Processing Record 270 | khandyga\n",
      "City kawana waters not found. Skipping to next city.\n",
      "Processing Record 271 | banepa\n",
      "Processing Record 272 | baherden\n",
      "City kazalinsk not found. Skipping to next city.\n",
      "Processing Record 273 | port macquarie\n",
      "Processing Record 274 | hiriyur\n",
      "Processing Record 275 | saint-francois\n",
      "Processing Record 276 | half moon bay\n",
      "Processing Record 277 | kieta\n",
      "Processing Record 278 | sehithwa\n",
      "Processing Record 279 | ternate\n",
      "Processing Record 280 | manono\n",
      "Processing Record 281 | lensk\n",
      "Processing Record 282 | martapura\n",
      "Processing Record 283 | puerto escondido\n",
      "Processing Record 284 | asosa\n",
      "Processing Record 285 | broome\n",
      "Processing Record 286 | conakry\n",
      "City barentsburg not found. Skipping to next city.\n",
      "Processing Record 287 | novocheremshansk\n",
      "Processing Record 288 | gazojak\n",
      "Processing Record 289 | beringovskiy\n",
      "Processing Record 290 | varna\n",
      "Processing Record 291 | cabo san lucas\n",
      "Processing Record 292 | karratha\n",
      "City labutta not found. Skipping to next city.\n",
      "Processing Record 293 | lompoc\n",
      "Processing Record 294 | vardo\n",
      "Processing Record 295 | nyurba\n",
      "Processing Record 296 | sioux lookout\n",
      "Processing Record 297 | saint anthony\n",
      "Processing Record 298 | provideniya\n",
      "Processing Record 299 | pangoa\n",
      "Processing Record 300 | rio gallegos\n",
      "City haibowan not found. Skipping to next city.\n",
      "City yomitan not found. Skipping to next city.\n",
      "Processing Record 301 | svobodnyy\n",
      "Processing Record 302 | ngama\n",
      "Processing Record 303 | garowe\n",
      "Processing Record 304 | puerto madryn\n",
      "City yeletskiy not found. Skipping to next city.\n",
      "Processing Record 305 | krasnoselkup\n",
      "Processing Record 306 | ambon\n",
      "Processing Record 307 | ketchikan\n",
      "City belushya guba not found. Skipping to next city.\n",
      "Processing Record 308 | saint-leu\n",
      "Processing Record 309 | diffa\n",
      "Processing Record 310 | pouembout\n",
      "Processing Record 311 | kirensk\n",
      "Processing Record 312 | sobolevo\n",
      "Processing Record 313 | pokhara\n",
      "Processing Record 314 | vilhena\n",
      "Processing Record 315 | iquitos\n",
      "Processing Record 316 | tandlianwala\n",
      "Processing Record 317 | kruisfontein\n",
      "Processing Record 318 | port hedland\n",
      "Processing Record 319 | aripuana\n",
      "Processing Record 320 | korsakovo\n",
      "Processing Record 321 | sussex\n",
      "Processing Record 322 | mayumba\n",
      "Processing Record 323 | giyon\n",
      "City allanmyo not found. Skipping to next city.\n",
      "Processing Record 324 | padang\n",
      "Processing Record 325 | bosaso\n",
      "Processing Record 326 | verkhnevilyuysk\n",
      "Processing Record 327 | buchanan\n",
      "Processing Record 328 | atambua\n",
      "Processing Record 329 | amot\n",
      "Processing Record 330 | jiamusi\n",
      "Processing Record 331 | saskylakh\n",
      "Processing Record 332 | san patricio\n",
      "Processing Record 333 | chihuahua\n",
      "Processing Record 334 | bondo\n",
      "Processing Record 335 | salvador\n",
      "Processing Record 336 | aqtobe\n",
      "Processing Record 337 | nelson bay\n",
      "Processing Record 338 | tars\n",
      "Processing Record 339 | tiksi\n",
      "Processing Record 340 | port lincoln\n",
      "Processing Record 341 | iringa\n",
      "Processing Record 342 | petropavlovsk-kamchatskiy\n",
      "Processing Record 343 | fare\n",
      "Processing Record 344 | fortuna foothills\n",
      "Processing Record 345 | bethel\n",
      "Processing Record 346 | sur\n",
      "Processing Record 347 | honningsvag\n",
      "Processing Record 348 | oum hadjer\n",
      "Processing Record 349 | sao sebastiao\n",
      "Processing Record 350 | byron bay\n",
      "Processing Record 351 | beloha\n",
      "City kadykchan not found. Skipping to next city.\n",
      "Processing Record 352 | togul\n",
      "City dzhusaly not found. Skipping to next city.\n",
      "Processing Record 353 | alyangula\n",
      "Processing Record 354 | nizhnevartovsk\n",
      "Processing Record 355 | mamallapuram\n",
      "Processing Record 356 | kharp\n",
      "Processing Record 357 | canton\n",
      "Processing Record 358 | urengoy\n",
      "Processing Record 359 | souris\n",
      "City sorvag not found. Skipping to next city.\n",
      "Processing Record 360 | kununurra\n",
      "Processing Record 361 | pemberton\n",
      "Processing Record 362 | karlskoga\n",
      "Processing Record 363 | barranca\n",
      "Processing Record 364 | kargil\n",
      "Processing Record 365 | alofi\n",
      "Processing Record 366 | torbay\n",
      "Processing Record 367 | fort nelson\n",
      "Processing Record 368 | yatou\n",
      "Processing Record 369 | kudus\n",
      "Processing Record 370 | goure\n",
      "Processing Record 371 | puerto baquerizo moreno\n",
      "Processing Record 372 | antipovka\n",
      "Processing Record 373 | meulaboh\n",
      "Processing Record 374 | brooks\n",
      "City buon me thuot not found. Skipping to next city.\n",
      "Processing Record 375 | luanda\n",
      "Processing Record 376 | basco\n",
      "Processing Record 377 | asau\n",
      "Processing Record 378 | grindavik\n",
      "Processing Record 379 | langarud\n",
      "Processing Record 380 | bandar-e anzali\n",
      "Processing Record 381 | rybnoye\n",
      "Processing Record 382 | rincon\n",
      "Processing Record 383 | batemans bay\n",
      "Processing Record 384 | xining\n",
      "Processing Record 385 | lorengau\n",
      "Processing Record 386 | richland hills\n",
      "Processing Record 387 | pacific grove\n",
      "Processing Record 388 | salinas\n",
      "City hunza not found. Skipping to next city.\n",
      "Processing Record 389 | gorontalo\n",
      "Processing Record 390 | tuatapere\n",
      "Processing Record 391 | ustka\n",
      "Processing Record 392 | lagoa\n",
      "Processing Record 393 | acapulco\n",
      "Processing Record 394 | dhidhdhoo\n",
      "Processing Record 395 | kohlu\n",
      "Processing Record 396 | dryden\n",
      "Processing Record 397 | san policarpo\n",
      "Processing Record 398 | camabatela\n",
      "Processing Record 399 | gewane\n",
      "Processing Record 400 | yamada\n",
      "Processing Record 401 | batagay-alyta\n",
      "Processing Record 402 | pozo colorado\n",
      "Processing Record 403 | guerrero negro\n",
      "Processing Record 404 | auki\n",
      "Processing Record 405 | zeya\n",
      "Processing Record 406 | tura\n",
      "Processing Record 407 | neepawa\n",
      "Processing Record 408 | denpasar\n",
      "Processing Record 409 | opuwo\n",
      "Processing Record 410 | ust-kuyga\n",
      "Processing Record 411 | mukdahan\n",
      "Processing Record 412 | maunabo\n",
      "Processing Record 413 | calvinia\n",
      "Processing Record 414 | marrakesh\n",
      "Processing Record 415 | zaysan\n",
      "Processing Record 416 | ulaanbaatar\n",
      "Processing Record 417 | pingliang\n",
      "Processing Record 418 | sao felix do xingu\n",
      "Processing Record 419 | harper\n",
      "City vaitupu not found. Skipping to next city.\n",
      "Processing Record 420 | great bend\n",
      "Processing Record 421 | mackay\n",
      "Processing Record 422 | prince albert\n",
      "City anar darreh not found. Skipping to next city.\n",
      "Processing Record 423 | sao joao da barra\n",
      "City yanan not found. Skipping to next city.\n",
      "Processing Record 424 | namatanai\n",
      "Processing Record 425 | kavieng\n",
      "Processing Record 426 | goundam\n",
      "Processing Record 427 | pyay\n",
      "Processing Record 428 | nago\n",
      "Processing Record 429 | srednekolymsk\n",
      "Processing Record 430 | lata\n",
      "Processing Record 431 | vao\n",
      "Processing Record 432 | lagos\n",
      "Processing Record 433 | neuquen\n",
      "Processing Record 434 | castanos\n"
     ]
    },
    {
     "name": "stdout",
     "output_type": "stream",
     "text": [
      "Processing Record 435 | mogadishu\n",
      "Processing Record 436 | vila franca do campo\n",
      "Processing Record 437 | aykhal\n",
      "Processing Record 438 | anori\n",
      "Processing Record 439 | juneau\n",
      "Processing Record 440 | brookhaven\n",
      "Processing Record 441 | panlaitan\n",
      "Processing Record 442 | golden\n",
      "City mys shmidta not found. Skipping to next city.\n",
      "Processing Record 443 | sotouboua\n",
      "Processing Record 444 | bundaberg\n",
      "Processing Record 445 | port augusta\n",
      "Processing Record 446 | emba\n",
      "Processing Record 447 | the valley\n",
      "Processing Record 448 | cobija\n",
      "City sentyabrskiy not found. Skipping to next city.\n",
      "Processing Record 449 | piranshahr\n",
      "Processing Record 450 | bilma\n",
      "Processing Record 451 | umba\n",
      "Processing Record 452 | prince rupert\n",
      "Processing Record 453 | abha\n",
      "Processing Record 454 | ginda\n",
      "Processing Record 455 | kuala lipis\n",
      "Processing Record 456 | aklavik\n",
      "Processing Record 457 | souillac\n",
      "Processing Record 458 | brae\n",
      "Processing Record 459 | nouadhibou\n",
      "Processing Record 460 | finote selam\n",
      "Processing Record 461 | kosh-agach\n",
      "Processing Record 462 | iqaluit\n",
      "Processing Record 463 | spassk-ryazanskiy\n",
      "Processing Record 464 | zdolbuniv\n",
      "Processing Record 465 | todos santos\n",
      "Processing Record 466 | port-cartier\n",
      "Processing Record 467 | yulara\n",
      "Processing Record 468 | maltahohe\n",
      "Processing Record 469 | saint-pierre\n",
      "Processing Record 470 | angoram\n",
      "Processing Record 471 | fortuna\n",
      "Processing Record 472 | igrim\n",
      "Processing Record 473 | iskateley\n",
      "Processing Record 474 | chapais\n",
      "Processing Record 475 | muros\n",
      "Processing Record 476 | envira\n",
      "Processing Record 477 | naze\n",
      "Processing Record 478 | strezhevoy\n",
      "Processing Record 479 | praia da vitoria\n",
      "Processing Record 480 | hammerfest\n",
      "Processing Record 481 | taoudenni\n",
      "Processing Record 482 | okitipupa\n",
      "Processing Record 483 | chino\n",
      "Processing Record 484 | kamaishi\n",
      "Processing Record 485 | labuhan\n",
      "Processing Record 486 | bo rai\n",
      "Processing Record 487 | balingasay\n",
      "Processing Record 488 | joshimath\n",
      "Processing Record 489 | pilikwe\n",
      "Processing Record 490 | balkhash\n",
      "Processing Record 491 | ilulissat\n",
      "Processing Record 492 | saint-augustin\n",
      "Processing Record 493 | uhlove\n",
      "Processing Record 494 | malakal\n",
      "Processing Record 495 | myre\n",
      "Processing Record 496 | ampanihy\n",
      "Processing Record 497 | flinders\n",
      "Processing Record 498 | urumqi\n",
      "Processing Record 499 | fethiye\n",
      "Processing Record 500 | teluknaga\n",
      "Processing Record 501 | sungaipenuh\n",
      "Processing Record 502 | rawson\n",
      "Processing Record 503 | qaqortoq\n",
      "Processing Record 504 | haldia\n",
      "Processing Record 505 | sidi ali\n",
      "Processing Record 506 | korla\n",
      "City tabiauea not found. Skipping to next city.\n",
      "Processing Record 507 | greenwood\n",
      "Processing Record 508 | longyearbyen\n",
      "Processing Record 509 | kodinsk\n",
      "Processing Record 510 | haifa\n",
      "Processing Record 511 | pec\n",
      "Processing Record 512 | novoutkinsk\n",
      "Processing Record 513 | hovd\n",
      "Processing Record 514 | anqing\n",
      "Processing Record 515 | santa cruz de tenerife\n",
      "City ust-kamchatsk not found. Skipping to next city.\n",
      "Processing Record 516 | santa rita\n",
      "Processing Record 517 | san quintin\n",
      "Processing Record 518 | oussouye\n",
      "City meyungs not found. Skipping to next city.\n",
      "Processing Record 519 | shimoda\n",
      "Processing Record 520 | ranfurly\n",
      "Processing Record 521 | constitucion\n",
      "Processing Record 522 | kamenka\n",
      "Processing Record 523 | san juan bautista\n",
      "Processing Record 524 | fairbanks\n",
      "Processing Record 525 | cooma\n",
      "Processing Record 526 | mount isa\n",
      "Processing Record 527 | quatre cocos\n",
      "Processing Record 528 | yekaterinoslavka\n",
      "Processing Record 529 | gurlan\n",
      "Processing Record 530 | milkovo\n",
      "Processing Record 531 | esperance\n",
      "Processing Record 532 | sokolow podlaski\n",
      "Processing Record 533 | chifeng\n",
      "Processing Record 534 | sept-iles\n",
      "Processing Record 535 | matagami\n",
      "Processing Record 536 | svetlyy\n",
      "Processing Record 537 | magadan\n",
      "Processing Record 538 | dwarka\n",
      "Processing Record 539 | ewo\n",
      "Processing Record 540 | tosya\n",
      "Processing Record 541 | edson\n",
      "Processing Record 542 | lebanon\n",
      "Processing Record 543 | san onofre\n",
      "Processing Record 544 | taggia\n",
      "Processing Record 545 | tessalit\n",
      "Processing Record 546 | ambilobe\n",
      "Processing Record 547 | bage\n",
      "Processing Record 548 | hamilton\n",
      "Processing Record 549 | sao filipe\n",
      "Processing Record 550 | abalak\n",
      "Processing Record 551 | ca mau\n",
      "Processing Record 552 | kargasok\n",
      "Processing Record 553 | berlevag\n",
      "Processing Record 554 | bere\n",
      "Processing Record 555 | bako\n",
      "Processing Record 556 | suleja\n",
      "Processing Record 557 | amahai\n",
      "Processing Record 558 | virginia beach\n",
      "Processing Record 559 | natalio\n",
      "Processing Record 560 | dunmore east\n",
      "Processing Record 561 | bay roberts\n",
      "Processing Record 562 | mocuba\n",
      "Processing Record 563 | yabelo\n",
      "Processing Record 564 | marshall\n",
      "Processing Record 565 | apache junction\n",
      "Processing Record 566 | ambovombe\n",
      "Processing Record 567 | necochea\n",
      "Processing Record 568 | gizo\n",
      "City bolshaya chernigovka not found. Skipping to next city.\n",
      "Processing Record 569 | sangerhausen\n",
      "Processing Record 570 | ponta delgada\n",
      "Processing Record 571 | thunder bay\n",
      "Processing Record 572 | samarkand\n",
      "Processing Record 573 | liverpool\n",
      "Processing Record 574 | guilin\n",
      "Processing Record 575 | sitka\n",
      "City karaul not found. Skipping to next city.\n",
      "-----------------------------\n",
      "End of Data Retrieval     \n"
     ]
    }
   ],
   "source": [
    "#Base url\n",
    "url = \"http://api.openweathermap.org/data/2.5/weather?\"\n",
    "\n",
    "# Parameters\n",
    "city_name = []\n",
    "cloudiness = []\n",
    "country = []\n",
    "date = []\n",
    "humidity = []\n",
    "lat = []\n",
    "lng = []\n",
    "max_temp = []\n",
    "wind_speed = []\n",
    "record = 1\n",
    "units = \"imperial\"\n",
    "\n",
    "# Print the beginning of the logging.\n",
    "print(\"Beginning Data Retrieval     \")\n",
    "print(\"-----------------------------\")\n",
    "\n",
    "# Create a loop to find eah city\n",
    "for city in cities:\n",
    "    try:\n",
    "        #query_url = url + \"appid=\" + weather_api_key + \"units=\" + units + \"&q=\"\n",
    "        query_url = f\"{url}appid={weather_api_key}&units={units}&q=\"\n",
    "        weather_response = requests.get(f'{query_url}{city}').json()\n",
    "        city_name.append(weather_response[\"name\"])\n",
    "        cloudiness.append(weather_response[\"clouds\"][\"all\"])\n",
    "        country.append(weather_response[\"sys\"][\"country\"])\n",
    "        date.append(weather_response[\"dt\"])\n",
    "        humidity.append(weather_response[\"main\"][\"humidity\"])\n",
    "        lat.append(weather_response[\"coord\"][\"lat\"])\n",
    "        lng.append(weather_response[\"coord\"][\"lon\"])\n",
    "        max_temp.append(weather_response[\"main\"][\"temp_max\"])\n",
    "        wind_speed.append(weather_response[\"wind\"][\"speed\"])\n",
    "        print(f'Processing Record {record} | {city}')\n",
    "        record = record + 1\n",
    "    except KeyError:\n",
    "         print(f\"City {city} not found. Skipping to next city.\")\n",
    "    pass\n",
    "    time.sleep(1)\n",
    "    \n",
    "# Print complete logs\n",
    "print(\"-----------------------------\")\n",
    "print(\"End of Data Retrieval     \")"
   ]
  },
  {
   "cell_type": "markdown",
   "metadata": {},
   "source": [
    "### Convert Raw Data to DataFrame\n",
    "* Export the city data into a .csv.\n",
    "* Display the DataFrame"
   ]
  },
  {
   "cell_type": "code",
   "execution_count": 4,
   "metadata": {},
   "outputs": [
    {
     "data": {
      "text/html": [
       "<div>\n",
       "<style scoped>\n",
       "    .dataframe tbody tr th:only-of-type {\n",
       "        vertical-align: middle;\n",
       "    }\n",
       "\n",
       "    .dataframe tbody tr th {\n",
       "        vertical-align: top;\n",
       "    }\n",
       "\n",
       "    .dataframe thead th {\n",
       "        text-align: right;\n",
       "    }\n",
       "</style>\n",
       "<table border=\"1\" class=\"dataframe\">\n",
       "  <thead>\n",
       "    <tr style=\"text-align: right;\">\n",
       "      <th></th>\n",
       "      <th>City</th>\n",
       "      <th>Lat</th>\n",
       "      <th>Lng</th>\n",
       "      <th>Max Temp</th>\n",
       "      <th>Humidity</th>\n",
       "      <th>Cloudiness</th>\n",
       "      <th>Wind Speed</th>\n",
       "      <th>Country</th>\n",
       "      <th>Date</th>\n",
       "    </tr>\n",
       "  </thead>\n",
       "  <tbody>\n",
       "    <tr>\n",
       "      <th>0</th>\n",
       "      <td>Bariloche</td>\n",
       "      <td>-41.1456</td>\n",
       "      <td>-71.3082</td>\n",
       "      <td>47.44</td>\n",
       "      <td>54</td>\n",
       "      <td>0</td>\n",
       "      <td>6.91</td>\n",
       "      <td>AR</td>\n",
       "      <td>1628127497</td>\n",
       "    </tr>\n",
       "    <tr>\n",
       "      <th>1</th>\n",
       "      <td>Ushuaia</td>\n",
       "      <td>-54.8000</td>\n",
       "      <td>-68.3000</td>\n",
       "      <td>47.86</td>\n",
       "      <td>66</td>\n",
       "      <td>40</td>\n",
       "      <td>4.61</td>\n",
       "      <td>AR</td>\n",
       "      <td>1628127492</td>\n",
       "    </tr>\n",
       "    <tr>\n",
       "      <th>2</th>\n",
       "      <td>Yellowknife</td>\n",
       "      <td>62.4560</td>\n",
       "      <td>-114.3525</td>\n",
       "      <td>55.92</td>\n",
       "      <td>58</td>\n",
       "      <td>90</td>\n",
       "      <td>9.22</td>\n",
       "      <td>CA</td>\n",
       "      <td>1628127500</td>\n",
       "    </tr>\n",
       "    <tr>\n",
       "      <th>3</th>\n",
       "      <td>Tuy Hoa</td>\n",
       "      <td>13.0833</td>\n",
       "      <td>109.3000</td>\n",
       "      <td>90.12</td>\n",
       "      <td>54</td>\n",
       "      <td>100</td>\n",
       "      <td>16.42</td>\n",
       "      <td>VN</td>\n",
       "      <td>1628127433</td>\n",
       "    </tr>\n",
       "    <tr>\n",
       "      <th>4</th>\n",
       "      <td>Westport</td>\n",
       "      <td>41.1415</td>\n",
       "      <td>-73.3579</td>\n",
       "      <td>70.20</td>\n",
       "      <td>88</td>\n",
       "      <td>90</td>\n",
       "      <td>8.99</td>\n",
       "      <td>US</td>\n",
       "      <td>1628127502</td>\n",
       "    </tr>\n",
       "  </tbody>\n",
       "</table>\n",
       "</div>"
      ],
      "text/plain": [
       "          City      Lat       Lng  Max Temp  Humidity  Cloudiness  Wind Speed  \\\n",
       "0    Bariloche -41.1456  -71.3082     47.44        54           0        6.91   \n",
       "1      Ushuaia -54.8000  -68.3000     47.86        66          40        4.61   \n",
       "2  Yellowknife  62.4560 -114.3525     55.92        58          90        9.22   \n",
       "3      Tuy Hoa  13.0833  109.3000     90.12        54         100       16.42   \n",
       "4     Westport  41.1415  -73.3579     70.20        88          90        8.99   \n",
       "\n",
       "  Country        Date  \n",
       "0      AR  1628127497  \n",
       "1      AR  1628127492  \n",
       "2      CA  1628127500  \n",
       "3      VN  1628127433  \n",
       "4      US  1628127502  "
      ]
     },
     "execution_count": 4,
     "metadata": {},
     "output_type": "execute_result"
    }
   ],
   "source": [
    "# Create the data frame\n",
    "cities_pd = pd.DataFrame({\n",
    "    \"City\": city_name,\n",
    "    \"Lat\": lat,\n",
    "    \"Lng\": lng,\n",
    "    \"Max Temp\": max_temp,\n",
    "    \"Humidity\": humidity,\n",
    "    \"Cloudiness\": cloudiness,\n",
    "    \"Wind Speed\": wind_speed,\n",
    "    \"Country\": country,\n",
    "    \"Date\": date})\n",
    "\n",
    "# Save Data to csv\n",
    "cities_pd.to_csv(\"Cities_Output.csv\")\n",
    "\n",
    "#Display DataFrame\n",
    "cities_pd.head()"
   ]
  },
  {
   "cell_type": "code",
   "execution_count": 5,
   "metadata": {},
   "outputs": [
    {
     "data": {
      "text/html": [
       "<div>\n",
       "<style scoped>\n",
       "    .dataframe tbody tr th:only-of-type {\n",
       "        vertical-align: middle;\n",
       "    }\n",
       "\n",
       "    .dataframe tbody tr th {\n",
       "        vertical-align: top;\n",
       "    }\n",
       "\n",
       "    .dataframe thead th {\n",
       "        text-align: right;\n",
       "    }\n",
       "</style>\n",
       "<table border=\"1\" class=\"dataframe\">\n",
       "  <thead>\n",
       "    <tr style=\"text-align: right;\">\n",
       "      <th></th>\n",
       "      <th>Lat</th>\n",
       "      <th>Lng</th>\n",
       "      <th>Max Temp</th>\n",
       "      <th>Humidity</th>\n",
       "      <th>Cloudiness</th>\n",
       "      <th>Wind Speed</th>\n",
       "      <th>Date</th>\n",
       "    </tr>\n",
       "  </thead>\n",
       "  <tbody>\n",
       "    <tr>\n",
       "      <th>count</th>\n",
       "      <td>575.000000</td>\n",
       "      <td>575.000000</td>\n",
       "      <td>575.000000</td>\n",
       "      <td>575.000000</td>\n",
       "      <td>575.000000</td>\n",
       "      <td>575.000000</td>\n",
       "      <td>5.750000e+02</td>\n",
       "    </tr>\n",
       "    <tr>\n",
       "      <th>mean</th>\n",
       "      <td>21.530015</td>\n",
       "      <td>22.425092</td>\n",
       "      <td>69.796678</td>\n",
       "      <td>69.525217</td>\n",
       "      <td>50.702609</td>\n",
       "      <td>7.317791</td>\n",
       "      <td>1.628128e+09</td>\n",
       "    </tr>\n",
       "    <tr>\n",
       "      <th>std</th>\n",
       "      <td>32.848470</td>\n",
       "      <td>89.401348</td>\n",
       "      <td>13.059402</td>\n",
       "      <td>21.033298</td>\n",
       "      <td>40.028913</td>\n",
       "      <td>5.730271</td>\n",
       "      <td>2.587355e+02</td>\n",
       "    </tr>\n",
       "    <tr>\n",
       "      <th>min</th>\n",
       "      <td>-54.800000</td>\n",
       "      <td>-175.200000</td>\n",
       "      <td>33.940000</td>\n",
       "      <td>9.000000</td>\n",
       "      <td>0.000000</td>\n",
       "      <td>0.000000</td>\n",
       "      <td>1.628127e+09</td>\n",
       "    </tr>\n",
       "    <tr>\n",
       "      <th>25%</th>\n",
       "      <td>-5.730850</td>\n",
       "      <td>-58.966950</td>\n",
       "      <td>59.875000</td>\n",
       "      <td>56.500000</td>\n",
       "      <td>6.000000</td>\n",
       "      <td>3.220000</td>\n",
       "      <td>1.628128e+09</td>\n",
       "    </tr>\n",
       "    <tr>\n",
       "      <th>50%</th>\n",
       "      <td>28.366700</td>\n",
       "      <td>27.416700</td>\n",
       "      <td>70.990000</td>\n",
       "      <td>74.000000</td>\n",
       "      <td>49.000000</td>\n",
       "      <td>5.750000</td>\n",
       "      <td>1.628128e+09</td>\n",
       "    </tr>\n",
       "    <tr>\n",
       "      <th>75%</th>\n",
       "      <td>49.836200</td>\n",
       "      <td>101.906750</td>\n",
       "      <td>79.565000</td>\n",
       "      <td>86.000000</td>\n",
       "      <td>93.500000</td>\n",
       "      <td>9.950000</td>\n",
       "      <td>1.628128e+09</td>\n",
       "    </tr>\n",
       "    <tr>\n",
       "      <th>max</th>\n",
       "      <td>78.218600</td>\n",
       "      <td>179.316700</td>\n",
       "      <td>116.690000</td>\n",
       "      <td>100.000000</td>\n",
       "      <td>100.000000</td>\n",
       "      <td>34.180000</td>\n",
       "      <td>1.628128e+09</td>\n",
       "    </tr>\n",
       "  </tbody>\n",
       "</table>\n",
       "</div>"
      ],
      "text/plain": [
       "              Lat         Lng    Max Temp    Humidity  Cloudiness  Wind Speed  \\\n",
       "count  575.000000  575.000000  575.000000  575.000000  575.000000  575.000000   \n",
       "mean    21.530015   22.425092   69.796678   69.525217   50.702609    7.317791   \n",
       "std     32.848470   89.401348   13.059402   21.033298   40.028913    5.730271   \n",
       "min    -54.800000 -175.200000   33.940000    9.000000    0.000000    0.000000   \n",
       "25%     -5.730850  -58.966950   59.875000   56.500000    6.000000    3.220000   \n",
       "50%     28.366700   27.416700   70.990000   74.000000   49.000000    5.750000   \n",
       "75%     49.836200  101.906750   79.565000   86.000000   93.500000    9.950000   \n",
       "max     78.218600  179.316700  116.690000  100.000000  100.000000   34.180000   \n",
       "\n",
       "               Date  \n",
       "count  5.750000e+02  \n",
       "mean   1.628128e+09  \n",
       "std    2.587355e+02  \n",
       "min    1.628127e+09  \n",
       "25%    1.628128e+09  \n",
       "50%    1.628128e+09  \n",
       "75%    1.628128e+09  \n",
       "max    1.628128e+09  "
      ]
     },
     "execution_count": 5,
     "metadata": {},
     "output_type": "execute_result"
    }
   ],
   "source": [
    "# Statistical Analysis\n",
    "# Find the count, mean, standard deviation, min, max,and quartiles of the data\n",
    "cities_pd.describe()\n"
   ]
  },
  {
   "cell_type": "markdown",
   "metadata": {},
   "source": [
    "## Inspect the data and remove the cities where the humidity > 100%.\n",
    "----\n",
    "Skip this step if there are no cities that have humidity > 100%. "
   ]
  },
  {
   "cell_type": "code",
   "execution_count": 6,
   "metadata": {},
   "outputs": [
    {
     "data": {
      "text/html": [
       "<div>\n",
       "<style scoped>\n",
       "    .dataframe tbody tr th:only-of-type {\n",
       "        vertical-align: middle;\n",
       "    }\n",
       "\n",
       "    .dataframe tbody tr th {\n",
       "        vertical-align: top;\n",
       "    }\n",
       "\n",
       "    .dataframe thead th {\n",
       "        text-align: right;\n",
       "    }\n",
       "</style>\n",
       "<table border=\"1\" class=\"dataframe\">\n",
       "  <thead>\n",
       "    <tr style=\"text-align: right;\">\n",
       "      <th></th>\n",
       "      <th>City</th>\n",
       "      <th>Lat</th>\n",
       "      <th>Lng</th>\n",
       "      <th>Max Temp</th>\n",
       "      <th>Humidity</th>\n",
       "      <th>Cloudiness</th>\n",
       "      <th>Wind Speed</th>\n",
       "      <th>Country</th>\n",
       "      <th>Date</th>\n",
       "    </tr>\n",
       "  </thead>\n",
       "  <tbody>\n",
       "  </tbody>\n",
       "</table>\n",
       "</div>"
      ],
      "text/plain": [
       "Empty DataFrame\n",
       "Columns: [City, Lat, Lng, Max Temp, Humidity, Cloudiness, Wind Speed, Country, Date]\n",
       "Index: []"
      ]
     },
     "execution_count": 6,
     "metadata": {},
     "output_type": "execute_result"
    }
   ],
   "source": [
    "# Check for cities with humidity > 100%\n",
    "cities_hum_df = cities_pd[cities_pd[\"Humidity\"] > 100]\n",
    "cities_hum_df"
   ]
  },
  {
   "cell_type": "code",
   "execution_count": 20,
   "metadata": {},
   "outputs": [],
   "source": [
    "#No cities have humidity over 100%"
   ]
  },
  {
   "cell_type": "markdown",
   "metadata": {},
   "source": [
    "## Plotting the Data\n",
    "* Use proper labeling of the plots using plot titles (including date of analysis) and axes labels.\n",
    "* Save the plotted figures as .pngs."
   ]
  },
  {
   "cell_type": "markdown",
   "metadata": {},
   "source": [
    "## Latitude vs. Temperature Plot"
   ]
  },
  {
   "cell_type": "code",
   "execution_count": 8,
   "metadata": {},
   "outputs": [
    {
     "data": {
      "image/png": "[encoded data removed]",
      "text/plain": [
       "<Figure size 432x288 with 1 Axes>"
      ]
     },
     "metadata": {
      "needs_background": "light"
     },
     "output_type": "display_data"
    }
   ],
   "source": [
    "# Create a scatter plot showing the city latitude vs max temperature\n",
    "plt.scatter(cities_pd.iloc[:,1],cities_pd.iloc[:,3])\n",
    "plt.xlabel('Latitude')\n",
    "plt.ylabel('Max temprature (F)')\n",
    "plt.title('City Latitude vs. Max Temperature (F) 8/4/2021')\n",
    "plt.grid()\n",
    "plt.savefig('Figures/Latitude_MaxTemperature_Plot.png')"
   ]
  },
  {
   "cell_type": "markdown",
   "metadata": {},
   "source": [
    "## Analysis of Plot lat vs Max Temp (F)\n",
    "This plot shows a bell curve with higher maximum temperatures near the equator in the Northern Hemisphere."
   ]
  },
  {
   "cell_type": "markdown",
   "metadata": {},
   "source": [
    "#### Latitude vs. Humidity Plot"
   ]
  },
  {
   "cell_type": "code",
   "execution_count": 12,
   "metadata": {},
   "outputs": [
    {
     "data": {
      "image/png": "[encoded data removed]",
      "text/plain": [
       "<Figure size 432x288 with 1 Axes>"
      ]
     },
     "metadata": {
      "needs_background": "light"
     },
     "output_type": "display_data"
    }
   ],
   "source": [
    "# Create a scatter plot showing the city latitude vs humidity\n",
    "plt.scatter(cities_pd.iloc[:,1],cities_pd.iloc[:,4])\n",
    "plt.xlabel('Latitude')\n",
    "plt.ylabel('Humidity')\n",
    "plt.title('City Latitude vs. Humidity 8/4/2021')\n",
    "plt.grid()\n",
    "plt.savefig('figures/Latitude_Humidity_Plot.png')"
   ]
  },
  {
   "cell_type": "markdown",
   "metadata": {},
   "source": [
    "## Analysis of plot lat vs humidity\n",
    "The humidity over latitude shows higher humidity levels around the equator and more variation as you move further from the equator especially in the Northern Hemisphere."
   ]
  },
  {
   "cell_type": "markdown",
   "metadata": {},
   "source": [
    "## Latitude vs. Cloudiness Plot"
   ]
  },
  {
   "cell_type": "code",
   "execution_count": 13,
   "metadata": {},
   "outputs": [
    {
     "data": {
      "image/png": "[encoded data removed]",
      "text/plain": [
       "<Figure size 432x288 with 1 Axes>"
      ]
     },
     "metadata": {
      "needs_background": "light"
     },
     "output_type": "display_data"
    }
   ],
   "source": [
    "# Create a scatter plot showing the city latitude vs cloudiness\n",
    "plt.scatter(cities_pd.iloc[:,1],cities_pd.iloc[:,5])\n",
    "plt.xlabel('Latitude')\n",
    "plt.ylabel('Cloudiness')\n",
    "plt.title('City Latitude vs. Cloudiness 8/4/2021')\n",
    "plt.grid()\n",
    "plt.savefig('figures/Latitude_Cloudiness_Plot.png')"
   ]
  },
  {
   "cell_type": "markdown",
   "metadata": {},
   "source": [
    "## Analysis of plot lat vs cloudiness\n",
    "The distribution of cloudiness over latitude appears to be uniform with most points at 0 or 100."
   ]
  },
  {
   "cell_type": "markdown",
   "metadata": {},
   "source": [
    "## Latitude vs. Wind Speed Plot"
   ]
  },
  {
   "cell_type": "code",
   "execution_count": 14,
   "metadata": {},
   "outputs": [
    {
     "data": {
      "image/png": "[encoded data removed]",
      "text/plain": [
       "<Figure size 432x288 with 1 Axes>"
      ]
     },
     "metadata": {
      "needs_background": "light"
     },
     "output_type": "display_data"
    }
   ],
   "source": [
    "# Create a scatter plot showing the city latitude vs cloudiness\n",
    "plt.scatter(cities_pd.iloc[:,1],cities_pd.iloc[:,6])\n",
    "plt.xlabel('Latitude')\n",
    "plt.ylabel('Wind Speed')\n",
    "plt.title('City Latitude vs. Wind Speed 8/4/2021')\n",
    "plt.grid()\n",
    "plt.savefig('figures/Latitude_Wind_Speed_Plot.png')"
   ]
  },
  {
   "cell_type": "markdown",
   "metadata": {},
   "source": [
    "## Analysis of plot lat vs cloudiness\n",
    "There seems to be no difference in wind speed as you move away from the equator in either direction."
   ]
  },
  {
   "cell_type": "markdown",
   "metadata": {},
   "source": [
    "## Linear Regression"
   ]
  },
  {
   "cell_type": "markdown",
   "metadata": {},
   "source": [
    "####  Northern Hemisphere - Max Temp vs. Latitude Linear Regression"
   ]
  },
  {
   "cell_type": "code",
   "execution_count": 34,
   "metadata": {},
   "outputs": [
    {
     "name": "stdout",
     "output_type": "stream",
     "text": [
      "The r-value is: -0.5832467211127199\n"
     ]
    },
    {
     "data": {
      "image/png": "[encoded data removed]",
      "text/plain": [
       "<Figure size 432x288 with 1 Axes>"
      ]
     },
     "metadata": {
      "needs_background": "light"
     },
     "output_type": "display_data"
    },
    {
     "data": {
      "text/plain": [
       "<Figure size 432x288 with 0 Axes>"
      ]
     },
     "metadata": {},
     "output_type": "display_data"
    }
   ],
   "source": [
    "# Create a Northern Hemisphere data frame\n",
    "northern_df = cities_pd[cities_pd['Lat'] >= 0]\n",
    "northern_df\n",
    "\n",
    "# Plot a scatter plot with a linear regression and r value\n",
    "x_values = northern_df['Lat']\n",
    "y_values = northern_df['Max Temp']\n",
    "(slope, intercept, rvalue, pvalue, stderr) = linregress(x_values, y_values)\n",
    "regress_values = x_values * slope + intercept\n",
    "line_eq = \"y = \" + str(round(slope,1)) + \"x + \" + str(round(intercept,3))\n",
    "plt.scatter(x_values,y_values)\n",
    "plt.plot(x_values,regress_values,\"r-\")\n",
    "plt.annotate(line_eq,(10,40),fontsize=15,color=\"red\")\n",
    "plt.xlabel('Latitude')\n",
    "plt.ylabel('Max Temp (F)')\n",
    "print(f\"The r-value is: {rvalue}\")\n",
    "plt.show()\n",
    "plt.savefig(\"Figures/LinReg_Northern_Lat_vs_Max_Temp.png\")"
   ]
  },
  {
   "cell_type": "markdown",
   "metadata": {},
   "source": [
    "### Analysis of Northern Hemisphere Max Temp vs Lat\n",
    "This plot shows that there is moderate correalation between max temp and latitude. As the point gets further from the equator the max temperature is likely to decrease."
   ]
  },
  {
   "cell_type": "markdown",
   "metadata": {},
   "source": [
    "####  Southern Hemisphere - Max Temp vs. Latitude Linear Regression"
   ]
  },
  {
   "cell_type": "code",
   "execution_count": 33,
   "metadata": {},
   "outputs": [
    {
     "name": "stdout",
     "output_type": "stream",
     "text": [
      "The r-value is: 0.7764807351786465\n"
     ]
    },
    {
     "data": {
      "image/png": "[encoded data removed]",
      "text/plain": [
       "<Figure size 432x288 with 1 Axes>"
      ]
     },
     "metadata": {
      "needs_background": "light"
     },
     "output_type": "display_data"
    },
    {
     "data": {
      "text/plain": [
       "<Figure size 432x288 with 0 Axes>"
      ]
     },
     "metadata": {},
     "output_type": "display_data"
    }
   ],
   "source": [
    "# Create a Southern Hemisphere data frame\n",
    "southern_df = cities_pd[cities_pd['Lat'] < 0]\n",
    "southern_df\n",
    "\n",
    "# Plot a scatter plot with a linear regression and r value\n",
    "x_values = southern_df['Lat']\n",
    "y_values = southern_df['Max Temp']\n",
    "(slope, intercept, rvalue, pvalue, stderr) = linregress(x_values, y_values)\n",
    "regress_values = x_values * slope + intercept\n",
    "line_eq = \"y = \" + str(round(slope,1)) + \"x + \" + str(round(intercept,3))\n",
    "plt.scatter(x_values,y_values)\n",
    "plt.plot(x_values,regress_values,\"r-\")\n",
    "plt.annotate(line_eq,(-50,80),fontsize=15,color=\"red\")\n",
    "plt.xlabel('Latitude')\n",
    "plt.ylabel('Max Temp (F)')\n",
    "print(f\"The r-value is: {rvalue}\")\n",
    "plt.show()\n",
    "plt.savefig(\"Figures/LinReg_Southern_Lat_vs_Max_Temp.png\")"
   ]
  },
  {
   "cell_type": "markdown",
   "metadata": {},
   "source": [
    "### Analysis of Southern Hemisphere Max Temp vs Lat\n",
    "There is a strong correlation that as approaching the equator the maximum temperature increases."
   ]
  },
  {
   "cell_type": "markdown",
   "metadata": {},
   "source": [
    "####  Northern Hemisphere - Humidity (%) vs. Latitude Linear Regression"
   ]
  },
  {
   "cell_type": "code",
   "execution_count": 37,
   "metadata": {},
   "outputs": [
    {
     "name": "stdout",
     "output_type": "stream",
     "text": [
      "The r-value is: -0.1195503241443306\n"
     ]
    },
    {
     "data": {
      "image/png": "[encoded data removed]",
      "text/plain": [
       "<Figure size 432x288 with 1 Axes>"
      ]
     },
     "metadata": {
      "needs_background": "light"
     },
     "output_type": "display_data"
    },
    {
     "data": {
      "text/plain": [
       "<Figure size 432x288 with 0 Axes>"
      ]
     },
     "metadata": {},
     "output_type": "display_data"
    }
   ],
   "source": [
    "# Plot humidity vs latitude for northern hemisphere\n",
    "x_values = northern_df['Lat']\n",
    "y_values = northern_df['Humidity']\n",
    "(slope, intercept, rvalue, pvalue, stderr) = linregress(x_values, y_values)\n",
    "regress_values = x_values * slope + intercept\n",
    "line_eq = \"y = \" + str(round(slope,1)) + \"x + \" + str(round(intercept,4))\n",
    "plt.scatter(x_values,y_values)\n",
    "plt.plot(x_values,regress_values,\"r-\")\n",
    "plt.annotate(line_eq,(50,15),fontsize=15,color=\"red\")\n",
    "plt.xlabel('Latitude')\n",
    "plt.ylabel('Humidity %')\n",
    "print(f\"The r-value is: {rvalue}\")\n",
    "plt.show()\n",
    "plt.savefig(\"Figures/LinReg_Northern_Lat_vs_Humidity.png\")"
   ]
  },
  {
   "cell_type": "markdown",
   "metadata": {},
   "source": [
    "### Analysis of Northern Hemisphere Humidity vs Lat\n",
    "There is no or very weak correlation between latitude and humidity in the Northern Hemisphere."
   ]
  },
  {
   "cell_type": "markdown",
   "metadata": {},
   "source": [
    "####  Southern Hemisphere - Humidity (%) vs. Latitude Linear Regression"
   ]
  },
  {
   "cell_type": "code",
   "execution_count": 39,
   "metadata": {},
   "outputs": [
    {
     "name": "stdout",
     "output_type": "stream",
     "text": [
      "The r-value is: 0.10171843836236098\n"
     ]
    },
    {
     "data": {
      "image/png": "[encoded data removed]",
      "text/plain": [
       "<Figure size 432x288 with 1 Axes>"
      ]
     },
     "metadata": {
      "needs_background": "light"
     },
     "output_type": "display_data"
    },
    {
     "data": {
      "text/plain": [
       "<Figure size 432x288 with 0 Axes>"
      ]
     },
     "metadata": {},
     "output_type": "display_data"
    }
   ],
   "source": [
    "# Plot a scatter plot with a linear regression and r value\n",
    "x_values = southern_df['Lat']\n",
    "y_values = southern_df['Humidity']\n",
    "(slope, intercept, rvalue, pvalue, stderr) = linregress(x_values, y_values)\n",
    "regress_values = x_values * slope + intercept\n",
    "line_eq = \"y = \" + str(round(slope,1)) + \"x + \" + str(round(intercept,4))\n",
    "plt.scatter(x_values,y_values)\n",
    "plt.plot(x_values,regress_values,\"r-\")\n",
    "plt.annotate(line_eq,(-50,15),fontsize=15,color=\"red\")\n",
    "plt.xlabel('Latitude')\n",
    "plt.ylabel('Humidity %)')\n",
    "print(f\"The r-value is: {rvalue}\")\n",
    "plt.show()\n",
    "plt.savefig(\"Figures/LinReg_Southern_Lat_vs_Humidity.png\")"
   ]
  },
  {
   "cell_type": "markdown",
   "metadata": {},
   "source": [
    "### Analysis of Southern Hemisphere Humidity vs Lat\n",
    "There is no or very weak correlation between latitude and humidity in the Northern Hemisphere."
   ]
  },
  {
   "cell_type": "markdown",
   "metadata": {},
   "source": [
    "####  Northern Hemisphere - Cloudiness (%) vs. Latitude Linear Regression"
   ]
  },
  {
   "cell_type": "code",
   "execution_count": 43,
   "metadata": {},
   "outputs": [
    {
     "name": "stdout",
     "output_type": "stream",
     "text": [
      "The r-value is: -0.057776546291532886\n"
     ]
    },
    {
     "data": {
      "image/png": "[encoded data removed]",
      "text/plain": [
       "<Figure size 432x288 with 1 Axes>"
      ]
     },
     "metadata": {
      "needs_background": "light"
     },
     "output_type": "display_data"
    },
    {
     "data": {
      "text/plain": [
       "<Figure size 432x288 with 0 Axes>"
      ]
     },
     "metadata": {},
     "output_type": "display_data"
    }
   ],
   "source": [
    "# Plot cloudiness vs latitude for northern hemisphere\n",
    "x_values = northern_df['Lat']\n",
    "y_values = northern_df['Cloudiness']\n",
    "(slope, intercept, rvalue, pvalue, stderr) = linregress(x_values, y_values)\n",
    "regress_values = x_values * slope + intercept\n",
    "line_eq = \"y = \" + str(round(slope,1)) + \"x + \" + str(round(intercept,5))\n",
    "plt.scatter(x_values,y_values)\n",
    "plt.plot(x_values,regress_values,\"r-\")\n",
    "plt.annotate(line_eq,(10,50),fontsize=15,color=\"red\")\n",
    "plt.xlabel('Latitude')\n",
    "plt.ylabel('Cloudiness %')\n",
    "print(f\"The r-value is: {rvalue}\")\n",
    "plt.show()\n",
    "plt.savefig(\"Figures/LinReg_Northern_Lat_vs_Cloudiness.png\")"
   ]
  },
  {
   "cell_type": "markdown",
   "metadata": {},
   "source": [
    "### Analysis of Northern Hemisphere Cloudiness vs Lat\n",
    "There is no correlation between latitude and cloudiness in the Northern Hemisphere."
   ]
  },
  {
   "cell_type": "markdown",
   "metadata": {},
   "source": [
    "####  Southern Hemisphere - Cloudiness (%) vs. Latitude Linear Regression"
   ]
  },
  {
   "cell_type": "code",
   "execution_count": 45,
   "metadata": {},
   "outputs": [
    {
     "name": "stdout",
     "output_type": "stream",
     "text": [
      "The r-value is: -0.056390310993491094\n"
     ]
    },
    {
     "data": {
      "image/png": "[encoded data removed]",
      "text/plain": [
       "<Figure size 432x288 with 1 Axes>"
      ]
     },
     "metadata": {
      "needs_background": "light"
     },
     "output_type": "display_data"
    },
    {
     "data": {
      "text/plain": [
       "<Figure size 432x288 with 0 Axes>"
      ]
     },
     "metadata": {},
     "output_type": "display_data"
    }
   ],
   "source": [
    "# Plot a scatter plot with a linear regression and r value\n",
    "x_values = southern_df['Lat']\n",
    "y_values = southern_df['Cloudiness']\n",
    "(slope, intercept, rvalue, pvalue, stderr) = linregress(x_values, y_values)\n",
    "regress_values = x_values * slope + intercept\n",
    "line_eq = \"y = \" + str(round(slope,1)) + \"x + \" + str(round(intercept,5))\n",
    "plt.scatter(x_values,y_values)\n",
    "plt.plot(x_values,regress_values,\"r-\")\n",
    "plt.annotate(line_eq,(-50,60),fontsize=15,color=\"red\")\n",
    "plt.xlabel('Latitude')\n",
    "plt.ylabel('Cloudiness %)')\n",
    "print(f\"The r-value is: {rvalue}\")\n",
    "plt.show()\n",
    "plt.savefig(\"Figures/LinReg_Southern_Lat_vs_Cloudiness.png\")"
   ]
  },
  {
   "cell_type": "markdown",
   "metadata": {},
   "source": [
    "### Analysis of Southern Hemisphere Humidity vs Lat\n",
    "There is no correlation between latitude and humidity in the Southern Hemisphere."
   ]
  },
  {
   "cell_type": "markdown",
   "metadata": {},
   "source": [
    "####  Northern Hemisphere - Wind Speed (mph) vs. Latitude Linear Regression"
   ]
  },
  {
   "cell_type": "code",
   "execution_count": 46,
   "metadata": {},
   "outputs": [
    {
     "name": "stdout",
     "output_type": "stream",
     "text": [
      "The r-value is: 0.04027723947598467\n"
     ]
    },
    {
     "data": {
      "image/png": "[encoded data removed]",
      "text/plain": [
       "<Figure size 432x288 with 1 Axes>"
      ]
     },
     "metadata": {
      "needs_background": "light"
     },
     "output_type": "display_data"
    },
    {
     "data": {
      "text/plain": [
       "<Figure size 432x288 with 0 Axes>"
      ]
     },
     "metadata": {},
     "output_type": "display_data"
    }
   ],
   "source": [
    "# Plot wind speed vs latitude for northern hemisphere\n",
    "x_values = northern_df['Lat']\n",
    "y_values = northern_df['Wind Speed']\n",
    "(slope, intercept, rvalue, pvalue, stderr) = linregress(x_values, y_values)\n",
    "regress_values = x_values * slope + intercept\n",
    "line_eq = \"y = \" + str(round(slope,1)) + \"x + \" + str(round(intercept,6))\n",
    "plt.scatter(x_values,y_values)\n",
    "plt.plot(x_values,regress_values,\"r-\")\n",
    "plt.annotate(line_eq,(50,30),fontsize=15,color=\"red\")\n",
    "plt.xlabel('Latitude')\n",
    "plt.ylabel('Wind Speed (mph)')\n",
    "print(f\"The r-value is: {rvalue}\")\n",
    "plt.show()\n",
    "plt.savefig(\"Figures/LinReg_Northern_Lat_vs_Wind_speed.png\")"
   ]
  },
  {
   "cell_type": "markdown",
   "metadata": {},
   "source": [
    "### Analysis of Northern Hemisphere Wind Speed vs Lat\n",
    "There is no correlation between latitude and wind speed in the Northern Hemisphere."
   ]
  },
  {
   "cell_type": "markdown",
   "metadata": {},
   "source": [
    "####  Southern Hemisphere - Wind Speed (mph) vs. Latitude Linear Regression"
   ]
  },
  {
   "cell_type": "code",
   "execution_count": 48,
   "metadata": {},
   "outputs": [
    {
     "name": "stdout",
     "output_type": "stream",
     "text": [
      "The r-value is: -0.22264304066709814\n"
     ]
    },
    {
     "data": {
      "image/png": "[encoded data removed]",
      "text/plain": [
       "<Figure size 432x288 with 1 Axes>"
      ]
     },
     "metadata": {
      "needs_background": "light"
     },
     "output_type": "display_data"
    },
    {
     "data": {
      "text/plain": [
       "<Figure size 432x288 with 0 Axes>"
      ]
     },
     "metadata": {},
     "output_type": "display_data"
    }
   ],
   "source": [
    "# Plot a scatter plot with a linear regression and r value\n",
    "x_values = southern_df['Lat']\n",
    "y_values = southern_df['Wind Speed']\n",
    "(slope, intercept, rvalue, pvalue, stderr) = linregress(x_values, y_values)\n",
    "regress_values = x_values * slope + intercept\n",
    "line_eq = \"y = \" + str(round(slope,1)) + \"x + \" + str(round(intercept,6))\n",
    "plt.scatter(x_values,y_values)\n",
    "plt.plot(x_values,regress_values,\"r-\")\n",
    "plt.annotate(line_eq,(-40,30),fontsize=15,color=\"red\")\n",
    "plt.xlabel('Latitude')\n",
    "plt.ylabel('Wind Speed (mph))')\n",
    "print(f\"The r-value is: {rvalue}\")\n",
    "plt.show()\n",
    "plt.savefig(\"Figures/LinReg_Southern_Lat_vs_Wind_Speed.png\")"
   ]
  },
  {
   "cell_type": "markdown",
   "metadata": {},
   "source": [
    "### Analysis of Southern Hemisphere Wind Speed vs Lat\n",
    "There is very weak correlation between latitude and wind speed in the Southern Hemisphere."
   ]
  },
  {
   "cell_type": "code",
   "execution_count": null,
   "metadata": {},
   "outputs": [],
   "source": []
  }
 ],
 "metadata": {
  "anaconda-cloud": {},
  "kernel_info": {
   "name": "python3"
  },
  "kernelspec": {
   "display_name": "Python 3",
   "language": "python",
   "name": "python3"
  },
  "language_info": {
   "codemirror_mode": {
    "name": "ipython",
    "version": 3
   },
   "file_extension": ".py",
   "mimetype": "text/x-python",
   "name": "python",
   "nbconvert_exporter": "python",
   "pygments_lexer": "ipython3",
   "version": "3.8.8"
  },
  "latex_envs": {
   "LaTeX_envs_menu_present": true,
   "autoclose": false,
   "autocomplete": true,
   "bibliofile": "biblio.bib",
   "cite_by": "apalike",
   "current_citInitial": 1,
   "eqLabelWithNumbers": true,
   "eqNumInitial": 1,
   "hotkeys": {
    "equation": "Ctrl-E",
    "itemize": "Ctrl-I"
   },
   "labels_anchors": false,
   "latex_user_defs": false,
   "report_style_numbering": false,
   "user_envs_cfg": false
  },
  "nteract": {
   "version": "0.12.3"
  }
 },
 "nbformat": 4,
 "nbformat_minor": 2
}
